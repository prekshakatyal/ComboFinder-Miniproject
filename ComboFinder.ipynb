{
  "nbformat": 4,
  "nbformat_minor": 0,
  "metadata": {
    "colab": {
      "provenance": []
    },
    "kernelspec": {
      "name": "python3",
      "display_name": "Python 3"
    },
    "language_info": {
      "name": "python"
    }
  },
  "cells": [
    {
      "cell_type": "code",
      "execution_count": 1,
      "metadata": {
        "id": "ZnKl_t0pP1_i"
      },
      "outputs": [],
      "source": [
        "import random as r"
      ]
    },
    {
      "cell_type": "code",
      "source": [
        "ProductList = {'p1':10, 'p2':15, 'p3':20, 'p4':25, 'p5':30, 'p6':35, 'p7':50,\n",
        "               'p8':40, 'p9':55, 'p10':60, 'p11':65, 'p12':75, 'p13':70,\n",
        "               'p14':45}\n",
        "LB          = 290\n",
        "UB          = 310\n",
        "ResultList  = set()   # Store Result List i.e. list of sets whose sum is between 90 and 210.\n",
        "Iterations  = 1000    # Number of Inerations"
      ],
      "metadata": {
        "id": "EmS4bUnwP3BE"
      },
      "execution_count": 2,
      "outputs": []
    },
    {
      "cell_type": "code",
      "source": [
        "# Select combo size (i.e. number of products in a combo)\n",
        "SetSize = r.randint(2, len(ProductList)-1)\n",
        "print(\"Number of Product: \", SetSize)\n",
        "\n",
        "\n",
        "# Select number of elements from Set\n",
        "ComboList = r.sample(list(ProductList.keys()),SetSize)\n",
        "print(\"Product List     : \", ComboList)\n",
        "\n",
        "\n",
        "# Sum the products in ColboList\n",
        "ComboSum = sum([ ProductList[i] for i in ComboList])\n",
        "print(\"Sum of Product   : \", ComboSum)\n",
        "\n"
      ],
      "metadata": {
        "colab": {
          "base_uri": "https://localhost:8080/"
        },
        "id": "VioZitvYP6Hc",
        "outputId": "6f602e36-2688-41d7-e05c-494c4700d35b"
      },
      "execution_count": 3,
      "outputs": [
        {
          "output_type": "stream",
          "name": "stdout",
          "text": [
            "Number of Product:  13\n",
            "Product List     :  ['p13', 'p8', 'p11', 'p10', 'p1', 'p5', 'p3', 'p12', 'p9', 'p6', 'p14', 'p4', 'p7']\n",
            "Sum of Product   :  580\n"
          ]
        }
      ]
    },
    {
      "cell_type": "code",
      "source": [
        "# Loop till number of Iterations\n",
        "ResultList  = set()\n",
        "\n",
        "for i in range(Iterations):\n",
        "\n",
        "    # Select combo size (i.e. number of products in a combo)\n",
        "    SetSize = r.randint(2, len(ProductList)-1)\n",
        "\n",
        "    # Select number of elements from Set\n",
        "    ComboList = r.sample(list(ProductList.keys()),SetSize)\n",
        "\n",
        "    # Sum the products in ColboList\n",
        "    ComboSum = sum([ ProductList[i] for i in ComboList])\n",
        "    \n",
        "    # Check the Sum Between LB and UB\n",
        "    if ComboSum>= LB and ComboSum<= UB:\n",
        "      ResultList.add(tuple(ComboList))\n",
        "\n",
        "print(\"Done\")"
      ],
      "metadata": {
        "colab": {
          "base_uri": "https://localhost:8080/"
        },
        "id": "mC3xcNGDQLrc",
        "outputId": "0ec6cc98-4f1a-4dcb-8000-d534e2c7a5e3"
      },
      "execution_count": 16,
      "outputs": [
        {
          "output_type": "stream",
          "name": "stdout",
          "text": [
            "Done\n"
          ]
        }
      ]
    },
    {
      "cell_type": "code",
      "source": [
        "# Print all the sets whose sum is between LB and UB\n",
        "for r in ResultList:\n",
        "\tprint (r)\n",
        "\n",
        "# Print total sets\n",
        "print (\"\\nTotal Sets: \", len(ResultList), \"\\n\")"
      ],
      "metadata": {
        "colab": {
          "base_uri": "https://localhost:8080/"
        },
        "id": "MP2bVWFIQuZP",
        "outputId": "0f67ed89-3380-435a-da67-977c48eab305"
      },
      "execution_count": 17,
      "outputs": [
        {
          "output_type": "stream",
          "name": "stdout",
          "text": [
            "('p3', 'p9', 'p1', 'p5', 'p2', 'p10', 'p14', 'p13')\n",
            "('p10', 'p8', 'p13', 'p1', 'p7', 'p12')\n",
            "('p8', 'p6', 'p13', 'p4', 'p5', 'p9', 'p7')\n",
            "('p6', 'p5', 'p14', 'p8', 'p9', 'p3', 'p1', 'p11')\n",
            "('p1', 'p4', 'p9', 'p13', 'p6', 'p14', 'p3', 'p7')\n",
            "('p8', 'p12', 'p10', 'p5', 'p2', 'p7', 'p1', 'p3')\n",
            "('p8', 'p14', 'p12', 'p11', 'p4', 'p7', 'p1')\n",
            "('p2', 'p9', 'p5', 'p14', 'p13', 'p1', 'p3', 'p10')\n",
            "('p4', 'p13', 'p10', 'p12', 'p11')\n",
            "('p12', 'p6', 'p13', 'p4', 'p7', 'p9')\n",
            "('p6', 'p11', 'p12', 'p2', 'p7', 'p13')\n",
            "('p7', 'p11', 'p2', 'p12', 'p5', 'p10', 'p1')\n",
            "('p9', 'p12', 'p13', 'p6', 'p4', 'p5')\n",
            "('p12', 'p14', 'p1', 'p9', 'p11', 'p7')\n",
            "('p5', 'p2', 'p8', 'p3', 'p10', 'p4', 'p9', 'p14')\n",
            "('p5', 'p10', 'p3', 'p2', 'p6', 'p1', 'p13', 'p14', 'p4')\n",
            "('p4', 'p6', 'p2', 'p8', 'p1', 'p11', 'p10', 'p9')\n",
            "('p11', 'p9', 'p3', 'p14', 'p2', 'p8', 'p7')\n",
            "('p11', 'p13', 'p5', 'p10', 'p8', 'p2', 'p3')\n",
            "('p9', 'p10', 'p6', 'p14', 'p12', 'p5')\n",
            "('p14', 'p10', 'p1', 'p2', 'p5', 'p6', 'p8', 'p13')\n",
            "('p7', 'p11', 'p1', 'p13', 'p4', 'p14', 'p5')\n",
            "('p13', 'p6', 'p7', 'p1', 'p2', 'p11', 'p8', 'p3')\n",
            "('p1', 'p3', 'p9', 'p13', 'p8', 'p7', 'p11')\n",
            "('p2', 'p13', 'p7', 'p9', 'p10', 'p8', 'p3')\n",
            "('p11', 'p7', 'p14', 'p4', 'p13', 'p6')\n",
            "('p3', 'p2', 'p7', 'p11', 'p5', 'p6', 'p12')\n",
            "('p11', 'p8', 'p7', 'p9', 'p3', 'p14', 'p1', 'p4')\n",
            "('p5', 'p14', 'p11', 'p7', 'p9', 'p10')\n",
            "('p1', 'p6', 'p12', 'p14', 'p10', 'p9', 'p5')\n",
            "('p12', 'p3', 'p11', 'p14', 'p2', 'p6', 'p7')\n",
            "('p5', 'p1', 'p11', 'p6', 'p7', 'p10', 'p9')\n",
            "('p2', 'p1', 'p4', 'p13', 'p9', 'p10', 'p12')\n",
            "('p14', 'p7', 'p9', 'p8', 'p6', 'p12')\n",
            "('p5', 'p8', 'p4', 'p11', 'p3', 'p13', 'p9')\n",
            "('p7', 'p10', 'p3', 'p12', 'p8', 'p1', 'p9')\n",
            "('p6', 'p13', 'p3', 'p11', 'p4', 'p12')\n",
            "('p13', 'p6', 'p11', 'p5', 'p7', 'p9')\n",
            "('p13', 'p11', 'p9', 'p6', 'p7', 'p5')\n",
            "('p6', 'p8', 'p7', 'p5', 'p13', 'p3', 'p10')\n",
            "('p9', 'p7', 'p6', 'p4', 'p11', 'p8', 'p5')\n",
            "('p13', 'p8', 'p14', 'p4', 'p5', 'p6', 'p11')\n",
            "('p8', 'p4', 'p3', 'p6', 'p2', 'p13', 'p1', 'p12')\n",
            "('p13', 'p4', 'p7', 'p9', 'p11', 'p8')\n",
            "('p9', 'p14', 'p10', 'p13', 'p3', 'p2', 'p6')\n",
            "('p3', 'p12', 'p4', 'p6', 'p7', 'p11', 'p8')\n",
            "('p9', 'p5', 'p1', 'p8', 'p3', 'p4', 'p10', 'p7')\n",
            "('p10', 'p8', 'p11', 'p6', 'p9', 'p1', 'p4')\n",
            "\n",
            "Total Sets:  48 \n",
            "\n"
          ]
        }
      ]
    }
  ]
}